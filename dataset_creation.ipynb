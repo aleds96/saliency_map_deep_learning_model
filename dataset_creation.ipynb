{
 "cells": [
  {
   "cell_type": "code",
   "execution_count": 2,
   "id": "f170e8a0-3a5f-452e-b43b-a0fc3bb7ca57",
   "metadata": {
    "execution": {
     "iopub.execute_input": "2025-09-19T08:28:18.705544Z",
     "iopub.status.busy": "2025-09-19T08:28:18.705269Z",
     "iopub.status.idle": "2025-09-19T08:28:26.347859Z",
     "shell.execute_reply": "2025-09-19T08:28:26.346926Z",
     "shell.execute_reply.started": "2025-09-19T08:28:18.705522Z"
    }
   },
   "outputs": [
    {
     "name": "stdout",
     "output_type": "stream",
     "text": [
      "Hit:1 http://archive.ubuntu.com/ubuntu jammy InRelease\n",
      "Hit:2 https://developer.download.nvidia.com/compute/cuda/repos/ubuntu2204/x86_64  InRelease\n",
      "Hit:3 http://archive.ubuntu.com/ubuntu jammy-updates InRelease\n",
      "Hit:4 http://archive.ubuntu.com/ubuntu jammy-backports InRelease\n",
      "Hit:5 http://security.ubuntu.com/ubuntu jammy-security InRelease\n",
      "Reading package lists...\n",
      "Reading package lists...\n",
      "Building dependency tree...\n",
      "Reading state information...\n",
      "libgl1 is already the newest version (1.4.0-1).\n",
      "0 upgraded, 0 newly installed, 0 to remove and 23 not upgraded.\n",
      "Requirement already satisfied: seaborn in /opt/conda/lib/python3.12/site-packages (0.13.2)\n",
      "Requirement already satisfied: numpy!=1.24.0,>=1.20 in /opt/conda/lib/python3.12/site-packages (from seaborn) (2.2.6)\n",
      "Requirement already satisfied: pandas>=1.2 in /opt/conda/lib/python3.12/site-packages (from seaborn) (2.3.1)\n",
      "Requirement already satisfied: matplotlib!=3.6.1,>=3.4 in /opt/conda/lib/python3.12/site-packages (from seaborn) (3.10.5)\n",
      "Requirement already satisfied: contourpy>=1.0.1 in /opt/conda/lib/python3.12/site-packages (from matplotlib!=3.6.1,>=3.4->seaborn) (1.3.3)\n",
      "Requirement already satisfied: cycler>=0.10 in /opt/conda/lib/python3.12/site-packages (from matplotlib!=3.6.1,>=3.4->seaborn) (0.12.1)\n",
      "Requirement already satisfied: fonttools>=4.22.0 in /opt/conda/lib/python3.12/site-packages (from matplotlib!=3.6.1,>=3.4->seaborn) (4.59.1)\n",
      "Requirement already satisfied: kiwisolver>=1.3.1 in /opt/conda/lib/python3.12/site-packages (from matplotlib!=3.6.1,>=3.4->seaborn) (1.4.9)\n",
      "Requirement already satisfied: packaging>=20.0 in /opt/conda/lib/python3.12/site-packages (from matplotlib!=3.6.1,>=3.4->seaborn) (24.2)\n",
      "Requirement already satisfied: pillow>=8 in /opt/conda/lib/python3.12/site-packages (from matplotlib!=3.6.1,>=3.4->seaborn) (11.3.0)\n",
      "Requirement already satisfied: pyparsing>=2.3.1 in /opt/conda/lib/python3.12/site-packages (from matplotlib!=3.6.1,>=3.4->seaborn) (3.2.3)\n",
      "Requirement already satisfied: python-dateutil>=2.7 in /opt/conda/lib/python3.12/site-packages (from matplotlib!=3.6.1,>=3.4->seaborn) (2.9.0.post0)\n",
      "Requirement already satisfied: pytz>=2020.1 in /opt/conda/lib/python3.12/site-packages (from pandas>=1.2->seaborn) (2024.2)\n",
      "Requirement already satisfied: tzdata>=2022.7 in /opt/conda/lib/python3.12/site-packages (from pandas>=1.2->seaborn) (2025.2)\n",
      "Requirement already satisfied: six>=1.5 in /opt/conda/lib/python3.12/site-packages (from python-dateutil>=2.7->matplotlib!=3.6.1,>=3.4->seaborn) (1.17.0)\n"
     ]
    }
   ],
   "source": [
    "!pip install -r requirements.txt -q\n",
    "!sudo apt-get update -q && sudo apt-get install -y libgl1 -q\n",
    "!pip install seaborn"
   ]
  },
  {
   "cell_type": "code",
   "execution_count": 5,
   "id": "85303d4c-12b9-47bc-aa28-b8b81d9c5a3f",
   "metadata": {
    "execution": {
     "iopub.execute_input": "2025-09-19T09:23:57.477961Z",
     "iopub.status.busy": "2025-09-19T09:23:57.477708Z",
     "iopub.status.idle": "2025-09-19T09:24:02.910593Z",
     "shell.execute_reply": "2025-09-19T09:24:02.908050Z",
     "shell.execute_reply.started": "2025-09-19T09:23:57.477941Z"
    }
   },
   "outputs": [],
   "source": [
    "#manipolazione dati \n",
    "import cv2\n",
    "import numpy as np \n",
    "import pandas as pd\n",
    "import torch\n",
    "import torchvision.transforms as transforms\n",
    "from sklearn.model_selection import train_test_split\n",
    "\n",
    "\n",
    "\n",
    "#sistema\n",
    "import sys\n",
    "import os\n",
    "import gc\n",
    "import time\n",
    "\n",
    "#displaying a video \n",
    "from IPython.display import HTML,display, clear_output\n",
    "\n",
    "#loading mat\n",
    "from scipy.io import loadmat\n",
    "import mat73\n",
    "\n",
    "\n",
    "#visualizzazione\n",
    "import matplotlib.pyplot as plt\n",
    "from PIL import Image\n",
    "import seaborn as sns\n",
    "\n",
    "#utility \n",
    "import re\n",
    "from base64 import b64encode\n",
    "from src.utils import utility_fun as uf\n"
   ]
  },
  {
   "cell_type": "code",
   "execution_count": 6,
   "id": "77d2fa4f-d193-4de8-824e-042258e929b5",
   "metadata": {
    "execution": {
     "iopub.execute_input": "2025-09-19T09:24:02.912954Z",
     "iopub.status.busy": "2025-09-19T09:24:02.912457Z",
     "iopub.status.idle": "2025-09-19T09:24:02.920827Z",
     "shell.execute_reply": "2025-09-19T09:24:02.919543Z",
     "shell.execute_reply.started": "2025-09-19T09:24:02.912929Z"
    }
   },
   "outputs": [
    {
     "name": "stdout",
     "output_type": "stream",
     "text": [
      "DEVICE cpu\n"
     ]
    }
   ],
   "source": [
    "path_env_dict=uf.get_path_env()\n",
    "\n",
    "# path immagini target \n",
    "GAUSSIAN_TARGET_PATH=path_env_dict[\"GAUSSIAN_TARGET_PATH\"]\n",
    "WEIGHT_GAUSSIAN_TARGET_PATH=path_env_dict[\"WEIGHT_GAUSSIAN_TARGET_PATH\"]\n",
    "BINARY_TARGET_PATH=path_env_dict[\"BINARY_TARGET_PATH\"]\n",
    "BINARY_TARGET_RES224_PATH = path_env_dict[\"BINARY_TARGET_RES224_PATH\"]\n",
    "\n",
    "#json con i metadati di ogni video \n",
    "GAZE_INPUT_POINT_DATA_PATH = path_env_dict[\"GAZE_INPUT_POINT_DATA_PATH\"]\n",
    "\n",
    "# path immagini di input \n",
    "GAUSSIAN_ISO_INPUT_DATA_PATH=path_env_dict[\"GAUSSIAN_ISO_INPUT_DATA_PATH\"]\n",
    "GAUSSIAN_COV_INPUT_DATA_PATH=path_env_dict[\"GAUSSIAN_COV_INPUT_DATA_PATH\"]\n",
    "GAUSSIAN_ISOk_INPUT_DATA_PATH =path_env_dict[\"GAUSSIAN_ISOk_INPUT_DATA_PATH\"] \n",
    "GAUSSIAN_COVk_INPUT_DATA_PATH = path_env_dict[\"GAUSSIAN_COVk_INPUT_DATA_PATH\"]\n",
    "\n",
    "#TRAIN/VAL/TEST PATH \n",
    "TRAIN_DATA_PATH = path_env_dict['TRAIN_DATA_PATH']\n",
    "VAL_DATA_PATH = path_env_dict['VAL_DATA_PATH']\n",
    "TEST_DATA_PATH = path_env_dict['TEST_DATA_PATH']\n",
    "\n",
    "#altre variabili di ambiente\n",
    "DEVICE  = torch.device(\"cuda\" if torch.cuda.is_available() else \"cpu\")\n",
    "print('DEVICE',DEVICE)"
   ]
  },
  {
   "cell_type": "markdown",
   "id": "e7c9869b-9375-4fc3-978b-d019b4b87169",
   "metadata": {},
   "source": [
    "## GOAL:  costruzione dataset di training,validation e test \n",
    "### step: \n",
    "    1) esplorazione caratteristiche principali video (dimensione, numero di facce,durata) e indici video per split  stratificato\n",
    "    2) creazione  dizionario (input_img_path, output_img_path, video_id, frame_id) di training/validation/test per i seguenti usecase: \n",
    "     a) Input: std NON-isotropico  output: mappa gaussiana pesata  (task 1)\n",
    "     b) Input: std NON-isotropico  output: mappa binaria  (task 2) \n",
    "     c) Input: std isotropico  output: mappa gaussiana pesata  (task 1)\n",
    "     d) Input: std isotropico  output: mappa binaria  (task 2) \n",
    "     ### gestione multi task \n",
    "     a) Input: std NON-isotropico  output: mappa gaussiana pesata   &  mappa binaria (task 1 & 2)\n",
    "     c) Input: std isotropico  output: mappa gaussiana pesata   &  mappa binaria (task 1 & 2)"
   ]
  },
  {
   "cell_type": "markdown",
   "id": "e4890156-4dc2-4168-8af7-94c4f03d9c78",
   "metadata": {},
   "source": [
    "## STEP 1) esplorazione caratteristiche principali video (dimensione, numero di facce,durata)\n",
    "note: qui vogliamo creare dataset bilanciati evitando bias verso specifiche caratteristiche che potrebbero impattare i risultati. \n"
   ]
  },
  {
   "cell_type": "code",
   "execution_count": 7,
   "id": "d469c559-322f-4722-9dfe-617108e73bb8",
   "metadata": {
    "execution": {
     "iopub.execute_input": "2025-09-19T09:24:08.116209Z",
     "iopub.status.busy": "2025-09-19T09:24:08.115916Z",
     "iopub.status.idle": "2025-09-19T09:24:08.119560Z",
     "shell.execute_reply": "2025-09-19T09:24:08.118858Z",
     "shell.execute_reply.started": "2025-09-19T09:24:08.116187Z"
    }
   },
   "outputs": [],
   "source": [
    "video_stat_detail = {'video_id': [], 'face_cnt':[], 'width':[],'height':[],'hxw':[], 'frame_cnt':[]} "
   ]
  },
  {
   "cell_type": "code",
   "execution_count": 8,
   "id": "45e0095b-8f81-437b-952d-5648baf016fd",
   "metadata": {
    "execution": {
     "iopub.execute_input": "2025-09-19T09:24:08.357057Z",
     "iopub.status.busy": "2025-09-19T09:24:08.356758Z",
     "iopub.status.idle": "2025-09-19T09:24:08.361361Z",
     "shell.execute_reply": "2025-09-19T09:24:08.360753Z",
     "shell.execute_reply.started": "2025-09-19T09:24:08.357038Z"
    }
   },
   "outputs": [
    {
     "name": "stdout",
     "output_type": "stream",
     "text": [
      "LEN output 66\n",
      "LEN input 65\n",
      "video ids len: 64\n"
     ]
    }
   ],
   "source": [
    "output_video_ids=set(os.listdir(BINARY_TARGET_PATH)) \n",
    "input_video_ids=set(os.listdir(GAUSSIAN_COVk_INPUT_DATA_PATH)) \n",
    "print('LEN output', len(output_video_ids))\n",
    "print('LEN input', len(input_video_ids))\n",
    "\n",
    "video_ids_touse= (output_video_ids.intersection(input_video_ids))  -set(['.ipynb_checkpoints'])\n",
    "print('video ids len:',len(video_ids_touse))"
   ]
  },
  {
   "cell_type": "code",
   "execution_count": 9,
   "id": "77cce04d-5c49-471b-b788-28b82245c211",
   "metadata": {
    "execution": {
     "iopub.execute_input": "2025-09-19T09:24:08.563636Z",
     "iopub.status.busy": "2025-09-19T09:24:08.563368Z",
     "iopub.status.idle": "2025-09-19T09:24:10.059981Z",
     "shell.execute_reply": "2025-09-19T09:24:10.059296Z",
     "shell.execute_reply.started": "2025-09-19T09:24:08.563615Z"
    }
   },
   "outputs": [],
   "source": [
    "for video_id in video_ids_touse:  \n",
    "    gaze_js_data=uf.read_json(path=os.path.join(GAZE_INPUT_POINT_DATA_PATH,video_id+'.json'))\n",
    "    FRAME_SHAPE = tuple(gaze_js_data['FRAME_HW'])\n",
    "    FRAME_CNT=gaze_js_data['FRAME_CNT'] \n",
    "    FACE_CNT =gaze_js_data['FACES_CNT'] \n",
    "    #update info\n",
    "    video_stat_detail['video_id'].append(video_id)\n",
    "    video_stat_detail['face_cnt'].append(FACE_CNT)\n",
    "    video_stat_detail['width'].append(FRAME_SHAPE[1])\n",
    "    video_stat_detail['height'].append(FRAME_SHAPE[0])\n",
    "    video_stat_detail['hxw'].append(FRAME_SHAPE[0]*FRAME_SHAPE[1])\n",
    "    video_stat_detail['frame_cnt'].append(FRAME_CNT)\n",
    "\n",
    "video_stat_detail_df =pd.DataFrame(video_stat_detail)"
   ]
  },
  {
   "cell_type": "markdown",
   "id": "074beb96-6556-47e3-ad63-8d51a9e99a44",
   "metadata": {},
   "source": [
    "###  ECDF numero facce per video "
   ]
  },
  {
   "cell_type": "code",
   "execution_count": 10,
   "id": "f3aad1ab-0303-4be8-9a3c-e8202ced0d1f",
   "metadata": {
    "execution": {
     "iopub.execute_input": "2025-09-19T09:24:10.061321Z",
     "iopub.status.busy": "2025-09-19T09:24:10.061014Z",
     "iopub.status.idle": "2025-09-19T09:24:10.201606Z",
     "shell.execute_reply": "2025-09-19T09:24:10.200841Z",
     "shell.execute_reply.started": "2025-09-19T09:24:10.061293Z"
    }
   },
   "outputs": [
    {
     "data": {
      "image/png": "[encoded data removed]",
      "text/plain": [
       "<Figure size 640x480 with 1 Axes>"
      ]
     },
     "metadata": {},
     "output_type": "display_data"
    }
   ],
   "source": [
    "sns.ecdfplot(video_stat_detail_df['face_cnt'])\n",
    "plt.title(\"ECDF faces \")\n",
    "plt.show()"
   ]
  },
  {
   "cell_type": "code",
   "execution_count": 11,
   "id": "4b7edf3c-c371-4eea-af42-38d9df12415c",
   "metadata": {
    "execution": {
     "iopub.execute_input": "2025-09-19T09:24:10.202873Z",
     "iopub.status.busy": "2025-09-19T09:24:10.202503Z",
     "iopub.status.idle": "2025-09-19T09:24:10.210658Z",
     "shell.execute_reply": "2025-09-19T09:24:10.209881Z",
     "shell.execute_reply.started": "2025-09-19T09:24:10.202840Z"
    }
   },
   "outputs": [
    {
     "name": "stdout",
     "output_type": "stream",
     "text": [
      "valori quantili face_cnt==> [2. 5.]\n"
     ]
    }
   ],
   "source": [
    "face_cnt_quant_value = video_stat_detail_df['face_cnt'].quantile([0.4, 0.80]).values\n",
    "print('valori quantili face_cnt==>',face_cnt_quant_value)\n",
    "#definisci indice bin per face_cnt\n",
    "video_stat_detail_df['face_cnt_bin'] = np.digitize(video_stat_detail_df['face_cnt'], bins=face_cnt_quant_value, right=True)"
   ]
  },
  {
   "cell_type": "markdown",
   "id": "fd1db338-4feb-495d-9d8c-c3bdce7f501d",
   "metadata": {},
   "source": [
    "###  ECDF frame_cnt per video "
   ]
  },
  {
   "cell_type": "code",
   "execution_count": 12,
   "id": "f5fc8aad-089f-424c-8c9b-a2cebf468b07",
   "metadata": {
    "execution": {
     "iopub.execute_input": "2025-09-19T09:24:10.211901Z",
     "iopub.status.busy": "2025-09-19T09:24:10.211670Z",
     "iopub.status.idle": "2025-09-19T09:24:10.338590Z",
     "shell.execute_reply": "2025-09-19T09:24:10.337716Z",
     "shell.execute_reply.started": "2025-09-19T09:24:10.211881Z"
    }
   },
   "outputs": [
    {
     "data": {
      "image/png": "[encoded data removed]",
      "text/plain": [
       "<Figure size 640x480 with 1 Axes>"
      ]
     },
     "metadata": {},
     "output_type": "display_data"
    }
   ],
   "source": [
    "sns.ecdfplot(video_stat_detail_df['frame_cnt'])\n",
    "plt.title(\"ECDF frame_cnt\")\n",
    "plt.show()"
   ]
  },
  {
   "cell_type": "code",
   "execution_count": 13,
   "id": "812c7b8b-decb-4afa-8df7-6975b3ce5691",
   "metadata": {
    "execution": {
     "iopub.execute_input": "2025-09-19T09:24:10.339918Z",
     "iopub.status.busy": "2025-09-19T09:24:10.339581Z",
     "iopub.status.idle": "2025-09-19T09:24:10.346861Z",
     "shell.execute_reply": "2025-09-19T09:24:10.346154Z",
     "shell.execute_reply.started": "2025-09-19T09:24:10.339887Z"
    }
   },
   "outputs": [
    {
     "name": "stdout",
     "output_type": "stream",
     "text": [
      "valori quantili frame_cnt==> [524.3 617.1]\n"
     ]
    }
   ],
   "source": [
    "frame_cnt_quant_value = video_stat_detail_df['frame_cnt'].quantile([0.55,0.85]).values\n",
    "print('valori quantili frame_cnt==>',frame_cnt_quant_value)\n",
    "#definisci indice bin per frame_cnt\n",
    "video_stat_detail_df['frame_cnt_bin'] = np.digitize(video_stat_detail_df['frame_cnt'], bins=frame_cnt_quant_value, right=True)"
   ]
  },
  {
   "cell_type": "markdown",
   "id": "a60b22fa-4e63-44a9-9bde-42c7674fb0c9",
   "metadata": {},
   "source": [
    "###  ECDF height per video "
   ]
  },
  {
   "cell_type": "code",
   "execution_count": 14,
   "id": "c176f27c-f268-4a18-af28-4c86af62811f",
   "metadata": {
    "execution": {
     "iopub.execute_input": "2025-09-19T09:24:10.348447Z",
     "iopub.status.busy": "2025-09-19T09:24:10.348037Z",
     "iopub.status.idle": "2025-09-19T09:24:10.472254Z",
     "shell.execute_reply": "2025-09-19T09:24:10.471533Z",
     "shell.execute_reply.started": "2025-09-19T09:24:10.348423Z"
    }
   },
   "outputs": [
    {
     "data": {
      "image/png": "[encoded data removed]",
      "text/plain": [
       "<Figure size 640x480 with 1 Axes>"
      ]
     },
     "metadata": {},
     "output_type": "display_data"
    }
   ],
   "source": [
    "sns.ecdfplot(video_stat_detail_df['height'])\n",
    "plt.title(\"ECDF height\")\n",
    "plt.show()"
   ]
  },
  {
   "cell_type": "markdown",
   "id": "e6ca4c0d-ec08-4906-a680-2eb879e789bf",
   "metadata": {},
   "source": [
    "## STEP 1B) SPLIT STRATIFICATO\n",
    "### OUTPUT ATTESO:  lista video id per training, validation e test mediante campionamento stratificato"
   ]
  },
  {
   "cell_type": "code",
   "execution_count": 15,
   "id": "7b5228b1-ea58-4a3c-a926-b37a05ce5e66",
   "metadata": {
    "execution": {
     "iopub.execute_input": "2025-09-19T09:24:10.474441Z",
     "iopub.status.busy": "2025-09-19T09:24:10.474159Z",
     "iopub.status.idle": "2025-09-19T09:24:10.478354Z",
     "shell.execute_reply": "2025-09-19T09:24:10.477690Z",
     "shell.execute_reply.started": "2025-09-19T09:24:10.474418Z"
    }
   },
   "outputs": [],
   "source": [
    "TEST_SIZE=0.2\n",
    "VALIDATION_SIZE=0.2"
   ]
  },
  {
   "cell_type": "code",
   "execution_count": 16,
   "id": "828e711f-4da8-4048-8e6d-078cd022672c",
   "metadata": {
    "execution": {
     "iopub.execute_input": "2025-09-19T09:24:10.481734Z",
     "iopub.status.busy": "2025-09-19T09:24:10.481476Z",
     "iopub.status.idle": "2025-09-19T09:24:10.493942Z",
     "shell.execute_reply": "2025-09-19T09:24:10.493286Z",
     "shell.execute_reply.started": "2025-09-19T09:24:10.481713Z"
    }
   },
   "outputs": [],
   "source": [
    "#colonna identificante del gruppo stratificato\n",
    "video_stat_detail_df['stratified_key'] = video_stat_detail_df['face_cnt_bin'].astype(str) + \"_\" + video_stat_detail_df['frame_cnt_bin'].astype(str)\n",
    "train_val_stat_df, test_stat_df = train_test_split(video_stat_detail_df.loc[:,['stratified_key','video_id']], test_size=TEST_SIZE, stratify=video_stat_detail_df['stratified_key'], random_state=42)\n",
    "train_stat_df, val_stat_df = train_test_split(train_val_stat_df, test_size=VALIDATION_SIZE, stratify=train_val_stat_df['stratified_key'], random_state=42)"
   ]
  },
  {
   "cell_type": "code",
   "execution_count": 17,
   "id": "ec5a0e14-90fd-406e-b8dc-aca27dd7b669",
   "metadata": {
    "execution": {
     "iopub.execute_input": "2025-09-19T09:24:10.659242Z",
     "iopub.status.busy": "2025-09-19T09:24:10.658959Z",
     "iopub.status.idle": "2025-09-19T09:24:10.663080Z",
     "shell.execute_reply": "2025-09-19T09:24:10.662417Z",
     "shell.execute_reply.started": "2025-09-19T09:24:10.659221Z"
    }
   },
   "outputs": [
    {
     "name": "stdout",
     "output_type": "stream",
     "text": [
      "DATASET (by video-id) LEN ===> TRAIN: 40 VAL: 11 TEST: 13\n"
     ]
    }
   ],
   "source": [
    "print(f'DATASET (by video-id) LEN ===> TRAIN: {train_stat_df.shape[0]} VAL: {val_stat_df.shape[0]} TEST: {test_stat_df.shape[0]}') "
   ]
  },
  {
   "cell_type": "markdown",
   "id": "f4a194d1-3071-4204-88f8-b1809d3ede4c",
   "metadata": {},
   "source": [
    "## STEP 2 \n",
    "    creazidtypesizionario (input_img_path, output_img_path, video_id, frame_id) di training/validation/test per i seguenti usecase: \n",
    "     a) Input: std NON-isotropico  output: mappa gaussiana pesata  (task 1)\n",
    "     b) Input: std NON-isotropico  output: mappa binaria  (task 2) \n",
    "     c) Input: std isotropico  output: mappa gaussiana pesata  (task 1)\n",
    "     d) Input: std isotropico  output: mappa binaria  (task 2) \n",
    " ### gestione multi task \n",
    "     e) Input: std NON-isotropico  output: mappa gaussiana pesata   &  mappa binaria (task 1 & 2)\n",
    "     f) Input: std isotropico  output: mappa gaussiana pesata   &  mappa binaria (task 1 & 2)"
   ]
  },
  {
   "cell_type": "code",
   "execution_count": 18,
   "id": "f50e17e4-cf94-4c50-9094-f23af9e28e90",
   "metadata": {
    "execution": {
     "iopub.execute_input": "2025-09-19T09:24:11.020783Z",
     "iopub.status.busy": "2025-09-19T09:24:11.020410Z",
     "iopub.status.idle": "2025-09-19T09:24:11.029098Z",
     "shell.execute_reply": "2025-09-19T09:24:11.028305Z",
     "shell.execute_reply.started": "2025-09-19T09:24:11.020759Z"
    }
   },
   "outputs": [],
   "source": [
    "def is_valid_binary_map(path, target_size=(224, 224)):\n",
    "    \"\"\"\n",
    "    Verifica se la mappa binaria contiene almeno un 0 e un 1 dopo il resize.\n",
    "    \"\"\"\n",
    "    if not os.path.exists(path):\n",
    "        return False\n",
    "\n",
    "    # Carica l'immagine in scala di grigi\n",
    "    img = Image.open(path).convert('L')\n",
    "    img_resized = img.resize(target_size, resample=Image.NEAREST)\n",
    "\n",
    "    # Converti in array numpy e binarizza (0 e 1)\n",
    "    np_map = np.array(img_resized)\n",
    "    binary_map = (np_map > 127).astype(np.uint8)\n",
    "\n",
    "    has_zero = np.any(binary_map == 0)\n",
    "    has_one = np.any(binary_map == 1)\n",
    "\n",
    "    return has_zero and has_one\n",
    "def downscale_binary_mask(binary_mask_highres=None,path=None,target_size=(224,224)):\n",
    "\n",
    "    #Proietta i pixel attivi (valore 1) da una mappa binaria ad alta risoluzione\n",
    "    #su una mappa binaria a risoluzione più bassa, usando coordinate relative.\n",
    "    if binary_mask_highres is None:  \n",
    "        binary_mask_highres = Image.open(path).convert('L')\n",
    "        binary_mask_highres = np.array(binary_mask_highres)\n",
    "    h_orig, w_orig = binary_mask_highres.shape\n",
    "    h_target, w_target = target_size\n",
    "\n",
    "    # Assicura che i pixel attivi siano interpretati come 1\n",
    "    binary_mask = (binary_mask_highres == 255).astype(np.uint8)\n",
    "\n",
    "    # Trova coordinate dei pixel attivi\n",
    "    active_coords = np.argwhere(binary_mask == 1)\n",
    "\n",
    "    # Calcola coordinate relative e proiettate\n",
    "    rel_coords = active_coords.astype(np.float32)\n",
    "    rel_coords[:, 0] = rel_coords[:, 0] / h_orig * h_target  # y\n",
    "    rel_coords[:, 1] = rel_coords[:, 1] / w_orig * w_target  # x\n",
    "\n",
    "    # Crea nuova mappa binaria\n",
    "    binary_mask_lowres = np.zeros((h_target, w_target), dtype=np.uint8)\n",
    "\n",
    "    # Inserisci pixel attivi nella nuova mappa\n",
    "    for y, x in rel_coords:\n",
    "        y_int = int(round(y))\n",
    "        x_int = int(round(x))\n",
    "        if 0 <= y_int < h_target and 0 <= x_int < w_target:\n",
    "            binary_mask_lowres[y_int, x_int] = 1\n",
    "\n",
    "    return binary_mask_lowres\n",
    "def calculate_fixation_pixel_cnt(path=None,binary_map=None,pixel_active_value=255):\n",
    "\n",
    "    if binary_map is None:\n",
    "        if not os.path.exists(path):\n",
    "            return False\n",
    "        # Carica l'immagine in scala di grigi\n",
    "        img = Image.open(path).convert('L')\n",
    "        # Converti in array numpy e binarizza (0 e 1)\n",
    "        binary_map = np.array(img)\n",
    "    fixation_pixel_cnt = int(np.sum(binary_map == pixel_active_value))\n",
    "    return fixation_pixel_cnt\n",
    "def analyze_pixel_values(image_path):\n",
    "    \n",
    "    #Analizza i valori dei pixel in un'immagine e conta quanti sono 0, 255 e intermedi.\n",
    "\n",
    "    img = cv2.imread(image_path, cv2.IMREAD_GRAYSCALE)  # carica come scala di grigi\n",
    "    unique, counts = np.unique(img, return_counts=True)\n",
    "    \n",
    "    stats = {\n",
    "        'total_pixels': img.size,\n",
    "        'zeros': int(np.sum(img == 0)),\n",
    "        'full_white': int(np.sum(img == 255)),\n",
    "        'intermediate': int(np.sum((img > 0) & (img < 255))),\n",
    "        'unique_values': dict(zip(unique.tolist(), counts.tolist()))\n",
    "    }\n",
    "    return stats    "
   ]
  },
  {
   "cell_type": "code",
   "execution_count": 22,
   "id": "f2be6111-e938-4d1e-8660-709daf096f06",
   "metadata": {
    "execution": {
     "iopub.execute_input": "2025-09-19T09:26:43.277820Z",
     "iopub.status.busy": "2025-09-19T09:26:43.277538Z",
     "iopub.status.idle": "2025-09-19T09:26:43.281023Z",
     "shell.execute_reply": "2025-09-19T09:26:43.280295Z",
     "shell.execute_reply.started": "2025-09-19T09:26:43.277797Z"
    }
   },
   "outputs": [],
   "source": [
    "BINARY_LOW_RES_SHAPE = (224,224)"
   ]
  },
  {
   "cell_type": "code",
   "execution_count": 23,
   "id": "f49ac2ff-5e4e-4021-921a-1efa32168bab",
   "metadata": {
    "execution": {
     "iopub.execute_input": "2025-09-19T09:26:43.761674Z",
     "iopub.status.busy": "2025-09-19T09:26:43.761401Z",
     "iopub.status.idle": "2025-09-19T09:26:43.764911Z",
     "shell.execute_reply": "2025-09-19T09:26:43.764166Z",
     "shell.execute_reply.started": "2025-09-19T09:26:43.761654Z"
    }
   },
   "outputs": [],
   "source": [
    "usecase_key_list=['nonisotropic__continuous', 'nonisotropic__binary','isotropic__continuous','isotropic__binary','nonisotropic__continuous_binary','isotropic__continuous_binary']"
   ]
  },
  {
   "cell_type": "code",
   "execution_count": 24,
   "id": "cfcdc09c-4c3a-4bea-802d-02c91d09b863",
   "metadata": {
    "execution": {
     "iopub.execute_input": "2025-09-19T09:27:17.568486Z",
     "iopub.status.busy": "2025-09-19T09:27:17.568201Z",
     "iopub.status.idle": "2025-09-19T09:35:35.527980Z",
     "shell.execute_reply": "2025-09-19T09:35:35.527375Z",
     "shell.execute_reply.started": "2025-09-19T09:27:17.568463Z"
    }
   },
   "outputs": [],
   "source": [
    "#ottieni lista video id per split\n",
    "video_ids_all = {'train': {'out_path':TRAIN_DATA_PATH,'video_ids': train_stat_df.video_id.tolist()},\n",
    "                 'val':{'out_path':VAL_DATA_PATH,'video_ids':val_stat_df.video_id.tolist()},\n",
    "                 'test':{'out_path':TEST_DATA_PATH,'video_ids':test_stat_df.video_id.tolist()}}\n",
    "not_valid_after_resize={'tot':0}\n",
    "for data_mode in video_ids_all.keys():   \n",
    "    data_path_dict={'mode': data_mode, 'usecase': { case_key:[] for case_key in usecase_key_list } } \n",
    "    for video_id in video_ids_all[data_mode]['video_ids']:\n",
    "        frame_cnt = video_stat_detail_df[video_stat_detail_df['video_id']==str(video_id)]['frame_cnt'].tolist()[0]\n",
    "        not_valid_after_resize[str(video_id)]=0\n",
    "        for frame_id in range(frame_cnt):\n",
    "            NON_ISOTROPIC_INPUT=os.path.join(GAUSSIAN_COVk_INPUT_DATA_PATH,f\"{video_id}\",f\"video{video_id}_frame{frame_id}.png\")\n",
    "            ISOTROPIC_INPUT=os.path.join(GAUSSIAN_ISOk_INPUT_DATA_PATH,f\"{video_id}\",f\"video{video_id}_frame{frame_id}.png\")\n",
    "            CONTINUOUS_OUTPUT = os.path.join(WEIGHT_GAUSSIAN_TARGET_PATH,f\"{video_id}\",f\"video{video_id}_frame{frame_id}_obs38.png\")\n",
    "            BINARY_OUTPUT = os.path.join(BINARY_TARGET_PATH,f\"{video_id}\",f\"video{video_id}_frame{frame_id}_obs38.png\")\n",
    "            BINARY_TARGET_RES224_OUTPUT = os.path.join(BINARY_TARGET_RES224_PATH,f\"{video_id}\",f\"video{video_id}_frame{frame_id}_obs38.png\")\n",
    "            if not os.path.exists(BINARY_OUTPUT): \n",
    "             #binary deve esisere perchè servirà per la valutazione dei modelli\n",
    "             continue \n",
    "            \"\"\"\n",
    "            if is_valid_binary_map(BINARY_OUTPUT,target_size=(384, 384))==False:\n",
    "                #print('immagine target non valida per video', video_id, 'frame',frame_id)\n",
    "                not_valid_after_resize[str(video_id)]+=1\n",
    "                not_valid_after_resize['tot']+=1\n",
    "                continue \n",
    "            \"\"\"\n",
    "            #crea immagine binaria a risoluzione più bassa \n",
    "            lower_res_binary_map = downscale_binary_mask(path=BINARY_OUTPUT, target_size=BINARY_LOW_RES_SHAPE)\n",
    "            fixation_cnt_original_res=calculate_fixation_pixel_cnt(BINARY_OUTPUT,pixel_active_value=255)\n",
    "            fixation_cnt_lower_res=calculate_fixation_pixel_cnt(binary_map=lower_res_binary_map,pixel_active_value=1)\n",
    "            if fixation_cnt_lower_res<1:  \n",
    "                print('0 fixation in low res skip') \n",
    "                continue \n",
    "            #BINARY_TARGET_RES224_PATH\n",
    "            binary_target_lowres_dest_folder = os.path.join(BINARY_TARGET_RES224_PATH,f\"{video_id}\")\n",
    "            os.makedirs(binary_target_lowres_dest_folder, exist_ok=True)\n",
    "            uf.export_mask2image(my_mask=lower_res_binary_map,path=BINARY_TARGET_RES224_OUTPUT)\n",
    "            \n",
    "            \n",
    "            \n",
    "            if os.path.exists(NON_ISOTROPIC_INPUT) and  os.path.exists(CONTINUOUS_OUTPUT): \n",
    "                data_path_dict['usecase']['nonisotropic__continuous'].append([NON_ISOTROPIC_INPUT,CONTINUOUS_OUTPUT,BINARY_TARGET_RES224_OUTPUT])\n",
    "                data_path_dict['usecase']['nonisotropic__continuous_binary'].append([NON_ISOTROPIC_INPUT,CONTINUOUS_OUTPUT,BINARY_TARGET_RES224_OUTPUT])\n",
    "            if os.path.exists(NON_ISOTROPIC_INPUT):\n",
    "                data_path_dict['usecase']['nonisotropic__binary'].append([NON_ISOTROPIC_INPUT,BINARY_TARGET_RES224_OUTPUT])\n",
    "            if os.path.exists(ISOTROPIC_INPUT) and  os.path.exists(CONTINUOUS_OUTPUT): \n",
    "                data_path_dict['usecase']['isotropic__continuous'].append([ISOTROPIC_INPUT,CONTINUOUS_OUTPUT,BINARY_TARGET_RES224_OUTPUT])\n",
    "                data_path_dict['usecase']['isotropic__continuous_binary'].append([ISOTROPIC_INPUT,CONTINUOUS_OUTPUT,BINARY_TARGET_RES224_OUTPUT])\n",
    "            if os.path.exists(ISOTROPIC_INPUT):\n",
    "                data_path_dict['usecase']['isotropic__binary'].append([ISOTROPIC_INPUT,BINARY_TARGET_RES224_OUTPUT])\n",
    "    #salva json per singolo split \n",
    "    uf.write_json(data=data_path_dict,path=os.path.join(video_ids_all[data_mode]['out_path'],f'{data_mode}.json'))"
   ]
  }
 ],
 "metadata": {
  "kernelspec": {
   "display_name": "Python 3 (ipykernel)",
   "language": "python",
   "name": "python3"
  },
  "language_info": {
   "codemirror_mode": {
    "name": "ipython",
    "version": 3
   },
   "file_extension": ".py",
   "mimetype": "text/x-python",
   "name": "python",
   "nbconvert_exporter": "python",
   "pygments_lexer": "ipython3",
   "version": "3.12.9"
  }
 },
 "nbformat": 4,
 "nbformat_minor": 5
}
