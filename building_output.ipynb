{
 "cells": [
  {
   "cell_type": "code",
   "execution_count": 1,
   "id": "cf26c6b4-3fcf-4e90-a2f3-764474afa388",
   "metadata": {},
   "outputs": [
    {
     "name": "stdout",
     "output_type": "stream",
     "text": [
      "\u001b[31mERROR: pip's dependency resolver does not currently take into account all the packages that are installed. This behaviour is the source of the following dependency conflicts.\n",
      "amazon-sagemaker-jupyter-ai-q-developer 1.2.7 requires onnxruntime<2,>=1.15.0, which is not installed.\n",
      "autogluon-multimodal 1.4.0 requires nvidia-ml-py3<8.0,>=7.352.0, which is not installed.\n",
      "amazon-sagemaker-jupyter-ai-q-developer 1.2.7 requires numpy<=2.0.1, but you have numpy 2.2.6 which is incompatible.\n",
      "amazon-sagemaker-sql-magic 0.1.4 requires numpy<2, but you have numpy 2.2.6 which is incompatible.\n",
      "autogluon-multimodal 1.4.0 requires transformers[sentencepiece]<4.50,>=4.38.0, but you have transformers 4.55.2 which is incompatible.\n",
      "autogluon-timeseries 1.4.0 requires transformers[sentencepiece]<4.50,>=4.38.0, but you have transformers 4.55.2 which is incompatible.\n",
      "gluonts 0.16.2 requires numpy<2.2,>=1.16, but you have numpy 2.2.6 which is incompatible.\n",
      "langchain-aws 0.2.19 requires boto3>=1.37.24, but you have boto3 1.37.1 which is incompatible.\n",
      "sagemaker 2.245.0 requires numpy==1.26.4, but you have numpy 2.2.6 which is incompatible.\n",
      "sparkmagic 0.21.0 requires pandas<2.0.0,>=0.17.1, but you have pandas 2.3.1 which is incompatible.\u001b[0m\u001b[31m\n",
      "\u001b[0mGet:1 https://developer.download.nvidia.com/compute/cuda/repos/ubuntu2204/x86_64  InRelease [1581 B]\n",
      "Hit:2 http://archive.ubuntu.com/ubuntu jammy InRelease\n",
      "Get:3 http://archive.ubuntu.com/ubuntu jammy-updates InRelease [128 kB]\n",
      "Get:4 http://security.ubuntu.com/ubuntu jammy-security InRelease [129 kB]\n",
      "Get:5 http://archive.ubuntu.com/ubuntu jammy-backports InRelease [127 kB]\n",
      "Get:6 http://archive.ubuntu.com/ubuntu jammy-updates/main amd64 Packages [3623 kB]\n",
      "Get:7 http://archive.ubuntu.com/ubuntu jammy-updates/restricted amd64 Packages [5560 kB]\n",
      "Get:8 http://archive.ubuntu.com/ubuntu jammy-updates/universe amd64 Packages [1581 kB]\n",
      "Get:9 http://security.ubuntu.com/ubuntu jammy-security/restricted amd64 Packages [5374 kB]\n",
      "Get:10 https://developer.download.nvidia.com/compute/cuda/repos/ubuntu2204/x86_64  Packages [2006 kB]\n",
      "Get:11 http://security.ubuntu.com/ubuntu jammy-security/universe amd64 Packages [1273 kB]\n",
      "Get:12 http://security.ubuntu.com/ubuntu jammy-security/main amd64 Packages [3310 kB]\n",
      "Fetched 23.1 MB in 2s (11.6 MB/s)\n",
      "Reading package lists...\n",
      "Reading package lists...\n",
      "Building dependency tree...\n",
      "Reading state information...\n",
      "The following additional packages will be installed:\n",
      "  libdrm-amdgpu1 libdrm-common libdrm-intel1 libdrm-nouveau2 libdrm-radeon1\n",
      "  libdrm2 libelf1 libgl1-amber-dri libgl1-mesa-dri libglapi-mesa libglvnd0\n",
      "  libglx-mesa0 libglx0 libllvm15 libpciaccess0 libsensors-config libsensors5\n",
      "  libx11-6 libx11-data libx11-xcb1 libxau6 libxcb-dri2-0 libxcb-dri3-0\n",
      "  libxcb-glx0 libxcb-present0 libxcb-randr0 libxcb-shm0 libxcb-sync1\n",
      "  libxcb-xfixes0 libxcb1 libxdmcp6 libxext6 libxfixes3 libxshmfence1\n",
      "  libxxf86vm1\n",
      "Suggested packages:\n",
      "  pciutils lm-sensors\n",
      "The following NEW packages will be installed:\n",
      "  libdrm-amdgpu1 libdrm-common libdrm-intel1 libdrm-nouveau2 libdrm-radeon1\n",
      "  libdrm2 libelf1 libgl1 libgl1-amber-dri libgl1-mesa-dri libglapi-mesa\n",
      "  libglvnd0 libglx-mesa0 libglx0 libllvm15 libpciaccess0 libsensors-config\n",
      "  libsensors5 libx11-6 libx11-data libx11-xcb1 libxau6 libxcb-dri2-0\n",
      "  libxcb-dri3-0 libxcb-glx0 libxcb-present0 libxcb-randr0 libxcb-shm0\n",
      "  libxcb-sync1 libxcb-xfixes0 libxcb1 libxdmcp6 libxext6 libxfixes3\n",
      "  libxshmfence1 libxxf86vm1\n",
      "0 upgraded, 36 newly installed, 0 to remove and 21 not upgraded.\n",
      "Need to get 40.2 MB of archives.\n",
      "After this operation, 173 MB of additional disk space will be used.\n",
      "Get:1 http://archive.ubuntu.com/ubuntu jammy-updates/main amd64 libelf1 amd64 0.186-1ubuntu0.1 [51.1 kB]\n",
      "Get:2 http://archive.ubuntu.com/ubuntu jammy-updates/main amd64 libdrm-common all 2.4.113-2~ubuntu0.22.04.1 [5450 B]\n",
      "Get:3 http://archive.ubuntu.com/ubuntu jammy-updates/main amd64 libdrm2 amd64 2.4.113-2~ubuntu0.22.04.1 [38.1 kB]\n",
      "Get:4 http://archive.ubuntu.com/ubuntu jammy/main amd64 libxau6 amd64 1:1.0.9-1build5 [7634 B]\n",
      "Get:5 http://archive.ubuntu.com/ubuntu jammy/main amd64 libxdmcp6 amd64 1:1.1.3-0ubuntu5 [10.9 kB]\n",
      "Get:6 http://archive.ubuntu.com/ubuntu jammy/main amd64 libxcb1 amd64 1.14-3ubuntu3 [49.0 kB]\n",
      "Get:7 http://archive.ubuntu.com/ubuntu jammy-updates/main amd64 libx11-data all 2:1.7.5-1ubuntu0.3 [120 kB]\n",
      "Get:8 http://archive.ubuntu.com/ubuntu jammy-updates/main amd64 libx11-6 amd64 2:1.7.5-1ubuntu0.3 [667 kB]\n",
      "Get:9 http://archive.ubuntu.com/ubuntu jammy/main amd64 libxext6 amd64 2:1.3.4-1build1 [31.8 kB]\n",
      "Get:10 http://archive.ubuntu.com/ubuntu jammy-updates/main amd64 libdrm-amdgpu1 amd64 2.4.113-2~ubuntu0.22.04.1 [19.9 kB]\n",
      "Get:11 http://archive.ubuntu.com/ubuntu jammy/main amd64 libpciaccess0 amd64 0.16-3 [19.1 kB]\n",
      "Get:12 http://archive.ubuntu.com/ubuntu jammy-updates/main amd64 libdrm-intel1 amd64 2.4.113-2~ubuntu0.22.04.1 [66.7 kB]\n",
      "Get:13 http://archive.ubuntu.com/ubuntu jammy-updates/main amd64 libdrm-nouveau2 amd64 2.4.113-2~ubuntu0.22.04.1 [17.5 kB]\n",
      "Get:14 http://archive.ubuntu.com/ubuntu jammy-updates/main amd64 libdrm-radeon1 amd64 2.4.113-2~ubuntu0.22.04.1 [21.6 kB]\n",
      "Get:15 http://archive.ubuntu.com/ubuntu jammy-updates/main amd64 libglapi-mesa amd64 23.2.1-1ubuntu3.1~22.04.3 [35.4 kB]\n",
      "Get:16 http://archive.ubuntu.com/ubuntu jammy-updates/main amd64 libgl1-amber-dri amd64 21.3.9-0ubuntu1~22.04.1 [4218 kB]\n",
      "Get:17 http://archive.ubuntu.com/ubuntu jammy-updates/main amd64 libllvm15 amd64 1:15.0.7-0ubuntu0.22.04.3 [25.4 MB]\n",
      "Get:18 http://archive.ubuntu.com/ubuntu jammy/main amd64 libsensors-config all 1:3.6.0-7ubuntu1 [5274 B]\n",
      "Get:19 http://archive.ubuntu.com/ubuntu jammy/main amd64 libsensors5 amd64 1:3.6.0-7ubuntu1 [26.3 kB]\n",
      "Get:20 http://archive.ubuntu.com/ubuntu jammy/main amd64 libxcb-dri3-0 amd64 1.14-3ubuntu3 [6968 B]\n",
      "Get:21 http://archive.ubuntu.com/ubuntu jammy-updates/main amd64 libgl1-mesa-dri amd64 23.2.1-1ubuntu3.1~22.04.3 [8860 kB]\n",
      "Get:22 http://archive.ubuntu.com/ubuntu jammy-updates/main amd64 libx11-xcb1 amd64 2:1.7.5-1ubuntu0.3 [7802 B]\n",
      "Get:23 http://archive.ubuntu.com/ubuntu jammy/main amd64 libxcb-dri2-0 amd64 1.14-3ubuntu3 [7206 B]\n",
      "Get:24 http://archive.ubuntu.com/ubuntu jammy/main amd64 libxcb-glx0 amd64 1.14-3ubuntu3 [25.9 kB]\n",
      "Get:25 http://archive.ubuntu.com/ubuntu jammy/main amd64 libxcb-present0 amd64 1.14-3ubuntu3 [5734 B]\n",
      "Get:26 http://archive.ubuntu.com/ubuntu jammy/main amd64 libxcb-randr0 amd64 1.14-3ubuntu3 [18.3 kB]\n",
      "Get:27 http://archive.ubuntu.com/ubuntu jammy/main amd64 libxcb-shm0 amd64 1.14-3ubuntu3 [5780 B]\n",
      "Get:28 http://archive.ubuntu.com/ubuntu jammy/main amd64 libxcb-sync1 amd64 1.14-3ubuntu3 [9416 B]\n",
      "Get:29 http://archive.ubuntu.com/ubuntu jammy/main amd64 libxcb-xfixes0 amd64 1.14-3ubuntu3 [9996 B]\n",
      "Get:30 http://archive.ubuntu.com/ubuntu jammy/main amd64 libxfixes3 amd64 1:6.0.0-1 [11.7 kB]\n",
      "Get:31 http://archive.ubuntu.com/ubuntu jammy/main amd64 libxshmfence1 amd64 1.3-1build4 [5394 B]\n",
      "Get:32 http://archive.ubuntu.com/ubuntu jammy/main amd64 libxxf86vm1 amd64 1:1.1.4-1build3 [10.4 kB]\n",
      "Get:33 http://archive.ubuntu.com/ubuntu jammy-updates/main amd64 libglx-mesa0 amd64 23.2.1-1ubuntu3.1~22.04.3 [158 kB]\n",
      "Get:34 http://archive.ubuntu.com/ubuntu jammy/main amd64 libglvnd0 amd64 1.4.0-1 [73.6 kB]\n",
      "Get:35 http://archive.ubuntu.com/ubuntu jammy/main amd64 libglx0 amd64 1.4.0-1 [41.0 kB]\n",
      "Get:36 http://archive.ubuntu.com/ubuntu jammy/main amd64 libgl1 amd64 1.4.0-1 [110 kB]\n",
      "Fetched 40.2 MB in 3s (14.5 MB/s)\n",
      "debconf: delaying package configuration, since apt-utils is not installed\n",
      "Selecting previously unselected package libelf1:amd64.\n",
      "(Reading database ... 14572 files and directories currently installed.)\n",
      "Preparing to unpack .../00-libelf1_0.186-1ubuntu0.1_amd64.deb ...\n",
      "Unpacking libelf1:amd64 (0.186-1ubuntu0.1) ...\n",
      "Selecting previously unselected package libdrm-common.\n",
      "Preparing to unpack .../01-libdrm-common_2.4.113-2~ubuntu0.22.04.1_all.deb ...\n",
      "Unpacking libdrm-common (2.4.113-2~ubuntu0.22.04.1) ...\n",
      "Selecting previously unselected package libdrm2:amd64.\n",
      "Preparing to unpack .../02-libdrm2_2.4.113-2~ubuntu0.22.04.1_amd64.deb ...\n",
      "Unpacking libdrm2:amd64 (2.4.113-2~ubuntu0.22.04.1) ...\n",
      "Selecting previously unselected package libxau6:amd64.\n",
      "Preparing to unpack .../03-libxau6_1%3a1.0.9-1build5_amd64.deb ...\n",
      "Unpacking libxau6:amd64 (1:1.0.9-1build5) ...\n",
      "Selecting previously unselected package libxdmcp6:amd64.\n",
      "Preparing to unpack .../04-libxdmcp6_1%3a1.1.3-0ubuntu5_amd64.deb ...\n",
      "Unpacking libxdmcp6:amd64 (1:1.1.3-0ubuntu5) ...\n",
      "Selecting previously unselected package libxcb1:amd64.\n",
      "Preparing to unpack .../05-libxcb1_1.14-3ubuntu3_amd64.deb ...\n",
      "Unpacking libxcb1:amd64 (1.14-3ubuntu3) ...\n",
      "Selecting previously unselected package libx11-data.\n",
      "Preparing to unpack .../06-libx11-data_2%3a1.7.5-1ubuntu0.3_all.deb ...\n",
      "Unpacking libx11-data (2:1.7.5-1ubuntu0.3) ...\n",
      "Selecting previously unselected package libx11-6:amd64.\n",
      "Preparing to unpack .../07-libx11-6_2%3a1.7.5-1ubuntu0.3_amd64.deb ...\n",
      "Unpacking libx11-6:amd64 (2:1.7.5-1ubuntu0.3) ...\n",
      "Selecting previously unselected package libxext6:amd64.\n",
      "Preparing to unpack .../08-libxext6_2%3a1.3.4-1build1_amd64.deb ...\n",
      "Unpacking libxext6:amd64 (2:1.3.4-1build1) ...\n",
      "Selecting previously unselected package libdrm-amdgpu1:amd64.\n",
      "Preparing to unpack .../09-libdrm-amdgpu1_2.4.113-2~ubuntu0.22.04.1_amd64.deb ...\n",
      "Unpacking libdrm-amdgpu1:amd64 (2.4.113-2~ubuntu0.22.04.1) ...\n",
      "Selecting previously unselected package libpciaccess0:amd64.\n",
      "Preparing to unpack .../10-libpciaccess0_0.16-3_amd64.deb ...\n",
      "Unpacking libpciaccess0:amd64 (0.16-3) ...\n",
      "Selecting previously unselected package libdrm-intel1:amd64.\n",
      "Preparing to unpack .../11-libdrm-intel1_2.4.113-2~ubuntu0.22.04.1_amd64.deb ...\n",
      "Unpacking libdrm-intel1:amd64 (2.4.113-2~ubuntu0.22.04.1) ...\n",
      "Selecting previously unselected package libdrm-nouveau2:amd64.\n",
      "Preparing to unpack .../12-libdrm-nouveau2_2.4.113-2~ubuntu0.22.04.1_amd64.deb ...\n",
      "Unpacking libdrm-nouveau2:amd64 (2.4.113-2~ubuntu0.22.04.1) ...\n",
      "Selecting previously unselected package libdrm-radeon1:amd64.\n",
      "Preparing to unpack .../13-libdrm-radeon1_2.4.113-2~ubuntu0.22.04.1_amd64.deb ...\n",
      "Unpacking libdrm-radeon1:amd64 (2.4.113-2~ubuntu0.22.04.1) ...\n",
      "Selecting previously unselected package libglapi-mesa:amd64.\n",
      "Preparing to unpack .../14-libglapi-mesa_23.2.1-1ubuntu3.1~22.04.3_amd64.deb ...\n",
      "Unpacking libglapi-mesa:amd64 (23.2.1-1ubuntu3.1~22.04.3) ...\n",
      "Selecting previously unselected package libgl1-amber-dri:amd64.\n",
      "Preparing to unpack .../15-libgl1-amber-dri_21.3.9-0ubuntu1~22.04.1_amd64.deb ...\n",
      "Unpacking libgl1-amber-dri:amd64 (21.3.9-0ubuntu1~22.04.1) ...\n",
      "Selecting previously unselected package libllvm15:amd64.\n",
      "Preparing to unpack .../16-libllvm15_1%3a15.0.7-0ubuntu0.22.04.3_amd64.deb ...\n",
      "Unpacking libllvm15:amd64 (1:15.0.7-0ubuntu0.22.04.3) ...\n",
      "Selecting previously unselected package libsensors-config.\n",
      "Preparing to unpack .../17-libsensors-config_1%3a3.6.0-7ubuntu1_all.deb ...\n",
      "Unpacking libsensors-config (1:3.6.0-7ubuntu1) ...\n",
      "Selecting previously unselected package libsensors5:amd64.\n",
      "Preparing to unpack .../18-libsensors5_1%3a3.6.0-7ubuntu1_amd64.deb ...\n",
      "Unpacking libsensors5:amd64 (1:3.6.0-7ubuntu1) ...\n",
      "Selecting previously unselected package libxcb-dri3-0:amd64.\n",
      "Preparing to unpack .../19-libxcb-dri3-0_1.14-3ubuntu3_amd64.deb ...\n",
      "Unpacking libxcb-dri3-0:amd64 (1.14-3ubuntu3) ...\n",
      "Selecting previously unselected package libgl1-mesa-dri:amd64.\n",
      "Preparing to unpack .../20-libgl1-mesa-dri_23.2.1-1ubuntu3.1~22.04.3_amd64.deb ...\n",
      "Unpacking libgl1-mesa-dri:amd64 (23.2.1-1ubuntu3.1~22.04.3) ...\n",
      "Selecting previously unselected package libx11-xcb1:amd64.\n",
      "Preparing to unpack .../21-libx11-xcb1_2%3a1.7.5-1ubuntu0.3_amd64.deb ...\n",
      "Unpacking libx11-xcb1:amd64 (2:1.7.5-1ubuntu0.3) ...\n",
      "Selecting previously unselected package libxcb-dri2-0:amd64.\n",
      "Preparing to unpack .../22-libxcb-dri2-0_1.14-3ubuntu3_amd64.deb ...\n",
      "Unpacking libxcb-dri2-0:amd64 (1.14-3ubuntu3) ...\n",
      "Selecting previously unselected package libxcb-glx0:amd64.\n",
      "Preparing to unpack .../23-libxcb-glx0_1.14-3ubuntu3_amd64.deb ...\n",
      "Unpacking libxcb-glx0:amd64 (1.14-3ubuntu3) ...\n",
      "Selecting previously unselected package libxcb-present0:amd64.\n",
      "Preparing to unpack .../24-libxcb-present0_1.14-3ubuntu3_amd64.deb ...\n",
      "Unpacking libxcb-present0:amd64 (1.14-3ubuntu3) ...\n",
      "Selecting previously unselected package libxcb-randr0:amd64.\n",
      "Preparing to unpack .../25-libxcb-randr0_1.14-3ubuntu3_amd64.deb ...\n",
      "Unpacking libxcb-randr0:amd64 (1.14-3ubuntu3) ...\n",
      "Selecting previously unselected package libxcb-shm0:amd64.\n",
      "Preparing to unpack .../26-libxcb-shm0_1.14-3ubuntu3_amd64.deb ...\n",
      "Unpacking libxcb-shm0:amd64 (1.14-3ubuntu3) ...\n",
      "Selecting previously unselected package libxcb-sync1:amd64.\n",
      "Preparing to unpack .../27-libxcb-sync1_1.14-3ubuntu3_amd64.deb ...\n",
      "Unpacking libxcb-sync1:amd64 (1.14-3ubuntu3) ...\n",
      "Selecting previously unselected package libxcb-xfixes0:amd64.\n",
      "Preparing to unpack .../28-libxcb-xfixes0_1.14-3ubuntu3_amd64.deb ...\n",
      "Unpacking libxcb-xfixes0:amd64 (1.14-3ubuntu3) ...\n",
      "Selecting previously unselected package libxfixes3:amd64.\n",
      "Preparing to unpack .../29-libxfixes3_1%3a6.0.0-1_amd64.deb ...\n",
      "Unpacking libxfixes3:amd64 (1:6.0.0-1) ...\n",
      "Selecting previously unselected package libxshmfence1:amd64.\n",
      "Preparing to unpack .../30-libxshmfence1_1.3-1build4_amd64.deb ...\n",
      "Unpacking libxshmfence1:amd64 (1.3-1build4) ...\n",
      "Selecting previously unselected package libxxf86vm1:amd64.\n",
      "Preparing to unpack .../31-libxxf86vm1_1%3a1.1.4-1build3_amd64.deb ...\n",
      "Unpacking libxxf86vm1:amd64 (1:1.1.4-1build3) ...\n",
      "Selecting previously unselected package libglx-mesa0:amd64.\n",
      "Preparing to unpack .../32-libglx-mesa0_23.2.1-1ubuntu3.1~22.04.3_amd64.deb ...\n",
      "Unpacking libglx-mesa0:amd64 (23.2.1-1ubuntu3.1~22.04.3) ...\n",
      "Selecting previously unselected package libglvnd0:amd64.\n",
      "Preparing to unpack .../33-libglvnd0_1.4.0-1_amd64.deb ...\n",
      "Unpacking libglvnd0:amd64 (1.4.0-1) ...\n",
      "Selecting previously unselected package libglx0:amd64.\n",
      "Preparing to unpack .../34-libglx0_1.4.0-1_amd64.deb ...\n",
      "Unpacking libglx0:amd64 (1.4.0-1) ...\n",
      "Selecting previously unselected package libgl1:amd64.\n",
      "Preparing to unpack .../35-libgl1_1.4.0-1_amd64.deb ...\n",
      "Unpacking libgl1:amd64 (1.4.0-1) ...\n",
      "Setting up libpciaccess0:amd64 (0.16-3) ...\n",
      "Setting up libxau6:amd64 (1:1.0.9-1build5) ...\n",
      "Setting up libxdmcp6:amd64 (1:1.1.3-0ubuntu5) ...\n",
      "Setting up libxcb1:amd64 (1.14-3ubuntu3) ...\n",
      "Setting up libxcb-xfixes0:amd64 (1.14-3ubuntu3) ...\n",
      "Setting up libglvnd0:amd64 (1.4.0-1) ...\n",
      "Setting up libxcb-glx0:amd64 (1.14-3ubuntu3) ...\n",
      "Setting up libsensors-config (1:3.6.0-7ubuntu1) ...\n",
      "Setting up libxcb-shm0:amd64 (1.14-3ubuntu3) ...\n",
      "Setting up libxcb-present0:amd64 (1.14-3ubuntu3) ...\n",
      "Setting up libx11-data (2:1.7.5-1ubuntu0.3) ...\n",
      "Setting up libxcb-sync1:amd64 (1.14-3ubuntu3) ...\n",
      "Setting up libsensors5:amd64 (1:3.6.0-7ubuntu1) ...\n",
      "Setting up libglapi-mesa:amd64 (23.2.1-1ubuntu3.1~22.04.3) ...\n",
      "Setting up libxcb-dri2-0:amd64 (1.14-3ubuntu3) ...\n",
      "Setting up libxshmfence1:amd64 (1.3-1build4) ...\n",
      "Setting up libxcb-randr0:amd64 (1.14-3ubuntu3) ...\n",
      "Setting up libllvm15:amd64 (1:15.0.7-0ubuntu0.22.04.3) ...\n",
      "Setting up libx11-6:amd64 (2:1.7.5-1ubuntu0.3) ...\n",
      "Setting up libdrm-common (2.4.113-2~ubuntu0.22.04.1) ...\n",
      "Setting up libelf1:amd64 (0.186-1ubuntu0.1) ...\n",
      "Setting up libxcb-dri3-0:amd64 (1.14-3ubuntu3) ...\n",
      "Setting up libx11-xcb1:amd64 (2:1.7.5-1ubuntu0.3) ...\n",
      "Setting up libxext6:amd64 (2:1.3.4-1build1) ...\n",
      "Setting up libxxf86vm1:amd64 (1:1.1.4-1build3) ...\n",
      "Setting up libxfixes3:amd64 (1:6.0.0-1) ...\n",
      "Setting up libdrm2:amd64 (2.4.113-2~ubuntu0.22.04.1) ...\n",
      "Setting up libdrm-amdgpu1:amd64 (2.4.113-2~ubuntu0.22.04.1) ...\n",
      "Setting up libdrm-nouveau2:amd64 (2.4.113-2~ubuntu0.22.04.1) ...\n",
      "Setting up libdrm-radeon1:amd64 (2.4.113-2~ubuntu0.22.04.1) ...\n",
      "Setting up libdrm-intel1:amd64 (2.4.113-2~ubuntu0.22.04.1) ...\n",
      "Setting up libgl1-mesa-dri:amd64 (23.2.1-1ubuntu3.1~22.04.3) ...\n",
      "Setting up libgl1-amber-dri:amd64 (21.3.9-0ubuntu1~22.04.1) ...\n",
      "Setting up libglx-mesa0:amd64 (23.2.1-1ubuntu3.1~22.04.3) ...\n",
      "Setting up libglx0:amd64 (1.4.0-1) ...\n",
      "Setting up libgl1:amd64 (1.4.0-1) ...\n",
      "Processing triggers for libc-bin (2.35-0ubuntu3.10) ...\n"
     ]
    }
   ],
   "source": [
    "!pip install -r requirements.txt -q\n",
    "!sudo apt-get update -q && sudo apt-get install -y libgl1 -q"
   ]
  },
  {
   "cell_type": "code",
   "execution_count": 2,
   "id": "02eb6a57-742f-49be-825c-cf56f1010e47",
   "metadata": {
    "execution": {
     "iopub.execute_input": "2025-09-10T17:18:08.331315Z",
     "iopub.status.busy": "2025-09-10T17:18:08.330902Z",
     "iopub.status.idle": "2025-09-10T17:18:13.979441Z",
     "shell.execute_reply": "2025-09-10T17:18:13.978614Z",
     "shell.execute_reply.started": "2025-09-10T17:18:08.331286Z"
    }
   },
   "outputs": [],
   "source": [
    "#manipolazione dati \n",
    "import cv2\n",
    "import numpy as np \n",
    "\n",
    "#sistema\n",
    "import os\n",
    "import gc\n",
    "\n",
    "#displaying a video \n",
    "from IPython.display import HTML,display, clear_output\n",
    "\n",
    "#loading mat\n",
    "from scipy.io import loadmat\n",
    "import mat73\n",
    "\n",
    "\n",
    "#visualizzazione\n",
    "import matplotlib.pyplot as plt\n",
    "from PIL import Image\n",
    "\n",
    "#utility \n",
    "import re\n",
    "from base64 import b64encode\n",
    "from src.utils import utility_fun as uf"
   ]
  },
  {
   "cell_type": "code",
   "execution_count": 3,
   "id": "d365e2dc-d840-4141-8516-3dc0ae1a5bd1",
   "metadata": {
    "execution": {
     "iopub.execute_input": "2025-09-10T17:18:13.981118Z",
     "iopub.status.busy": "2025-09-10T17:18:13.980638Z",
     "iopub.status.idle": "2025-09-10T17:18:13.985280Z",
     "shell.execute_reply": "2025-09-10T17:18:13.984421Z",
     "shell.execute_reply.started": "2025-09-10T17:18:13.981082Z"
    }
   },
   "outputs": [],
   "source": [
    "#folder \n",
    "path_env_dict=uf.get_path_env()\n",
    "RAW_VIDEO= path_env_dict['RAW_VIDEO']\n",
    "#from unimi\n",
    "FIX_DATA_NEW= path_env_dict['FIX_DATA_NEW']\n",
    "RAW_DB_PATH = path_env_dict['RAW_DB_PATH'] \n",
    "RAW_FIX_DURATION_PATH = path_env_dict['RAW_FIX_DURATION_PATH']\n",
    "GAUSSIAN_TARGET_PATH=path_env_dict[\"GAUSSIAN_TARGET_PATH\"]\n",
    "WEIGHT_GAUSSIAN_TARGET_PATH=path_env_dict[\"WEIGHT_GAUSSIAN_TARGET_PATH\"]\n",
    "BINARY_TARGET_PATH=path_env_dict[\"BINARY_TARGET_PATH\"]"
   ]
  },
  {
   "cell_type": "markdown",
   "id": "5170de9c-7cc0-48b8-8f3a-d81311d0f2b8",
   "metadata": {
    "jp-MarkdownHeadingCollapsed": true
   },
   "source": [
    "### Goal:  costruzione immagini di output con i punti di fixation \n",
    "### Step: \n",
    "    1) costruzione dataset punti di fixation + durata a partire dal dataset fixation NEW \n",
    "    2) Per ogni video, per ogni frame, costruire mappa binaria sui punti di fixation (TBD)\n",
    "    3) Per ogni video, per ogni frame, costruire mappa gaussiana sui punti di fixation  (1°dataset)\n",
    "    4) Per ogni video, per ogni frame, costruire mappa gaussiana sui punti di fixation usando la durata come peso per denotare anche l'intensità del gaze nel punto (2°dataset) "
   ]
  },
  {
   "cell_type": "markdown",
   "id": "44d01d30-828a-4b46-87ff-bed4b214fe70",
   "metadata": {
    "execution": {
     "iopub.execute_input": "2025-08-30T13:12:50.695750Z",
     "iopub.status.busy": "2025-08-30T13:12:50.695265Z",
     "iopub.status.idle": "2025-08-30T13:12:50.698805Z",
     "shell.execute_reply": "2025-08-30T13:12:50.697937Z",
     "shell.execute_reply.started": "2025-08-30T13:12:50.695724Z"
    },
    "jp-MarkdownHeadingCollapsed": true
   },
   "source": [
    "### 1) costruzione dataset punti di fixation + durata a partire dal dataset fixation NEW "
   ]
  },
  {
   "cell_type": "code",
   "execution_count": 6,
   "id": "6baab01e-10b0-464f-a205-d435530e038e",
   "metadata": {
    "execution": {
     "iopub.execute_input": "2025-08-31T20:59:50.419215Z",
     "iopub.status.busy": "2025-08-31T20:59:50.418934Z",
     "iopub.status.idle": "2025-08-31T20:59:50.425710Z",
     "shell.execute_reply": "2025-08-31T20:59:50.424672Z",
     "shell.execute_reply.started": "2025-08-31T20:59:50.419193Z"
    }
   },
   "outputs": [
    {
     "name": "stdout",
     "output_type": "stream",
     "text": [
      "****reading new mat data\n",
      "reading mat success!********\n"
     ]
    }
   ],
   "source": [
    "#var for testing\n",
    "VIDEO_ID='001'\n",
    "obs_id=0\n",
    "mat_data_fix_new,_ = uf.load_mat_data(os.path.join(FIX_DATA_NEW,f'{str(VIDEO_ID).zfill(3)}.mat'))\n",
    "fix_points_per_frame, observer_count,frame_count =uf.get_fixation_points_per_obs(fix_data=mat_data_fix_new, obs_id=obs_id)"
   ]
  },
  {
   "cell_type": "code",
   "execution_count": 7,
   "id": "bf8ca6a3-b63c-4a12-b563-2a3bf6ebb999",
   "metadata": {
    "execution": {
     "iopub.execute_input": "2025-08-31T20:59:50.759239Z",
     "iopub.status.busy": "2025-08-31T20:59:50.758966Z",
     "iopub.status.idle": "2025-08-31T20:59:50.763761Z",
     "shell.execute_reply": "2025-08-31T20:59:50.763101Z",
     "shell.execute_reply.started": "2025-08-31T20:59:50.759218Z"
    }
   },
   "outputs": [],
   "source": [
    "def create_fixations_with_duration(fixations):\n",
    "    fixations = np.asarray(fixations)\n",
    "    durations = np.zeros(len(fixations), dtype=int)\n",
    "    #trova  i punti di cambiamento rispetto ad entrambi assi\n",
    "    change_indices = np.where(np.any(fixations[1:] != fixations[:-1], axis=1))[0] + 1\n",
    "    split_indices = np.concatenate(([0], change_indices, [len(fixations)]))\n",
    "    for i in range(len(split_indices) - 1):\n",
    "        start, end = split_indices[i], split_indices[i + 1]\n",
    "        duration = end - start\n",
    "        durations[start:end] = duration\n",
    "    # Stack con fixations\n",
    "    return np.hstack((fixations, durations.reshape(-1,1)))"
   ]
  },
  {
   "cell_type": "markdown",
   "id": "f8658556-21a6-4190-a554-665a7312f93a",
   "metadata": {},
   "source": [
    "#### esempio su subset "
   ]
  },
  {
   "cell_type": "code",
   "execution_count": 8,
   "id": "da367ebb-588b-446d-b3a4-05e62c186d13",
   "metadata": {
    "execution": {
     "iopub.execute_input": "2025-08-31T20:59:52.928868Z",
     "iopub.status.busy": "2025-08-31T20:59:52.928016Z",
     "iopub.status.idle": "2025-08-31T20:59:52.936942Z",
     "shell.execute_reply": "2025-08-31T20:59:52.935957Z",
     "shell.execute_reply.started": "2025-08-31T20:59:52.928835Z"
    }
   },
   "outputs": [
    {
     "name": "stdout",
     "output_type": "stream",
     "text": [
      "***Subset punti di fixation==>\n",
      " [[533 357]\n",
      " [533 357]\n",
      " [758 340]\n",
      " [758 340]\n",
      " [758 340]\n",
      " [758 340]\n",
      " [758 340]\n",
      " [758 340]\n",
      " [821 337]\n",
      " [821 337]]\n"
     ]
    }
   ],
   "source": [
    "test_point_per_frame=fix_points_per_frame[:10,:10]\n",
    "print('***Subset punti di fixation==>\\n', test_point_per_frame)"
   ]
  },
  {
   "cell_type": "code",
   "execution_count": 9,
   "id": "e954cdc9-d4d6-4b26-b4f9-f43f73fbdcc7",
   "metadata": {
    "execution": {
     "iopub.execute_input": "2025-08-31T20:59:53.418492Z",
     "iopub.status.busy": "2025-08-31T20:59:53.418139Z",
     "iopub.status.idle": "2025-08-31T20:59:53.423259Z",
     "shell.execute_reply": "2025-08-31T20:59:53.422349Z",
     "shell.execute_reply.started": "2025-08-31T20:59:53.418469Z"
    }
   },
   "outputs": [
    {
     "name": "stdout",
     "output_type": "stream",
     "text": [
      "***Subset punti di fixation + durata==>\n",
      " [[533 357   2]\n",
      " [533 357   2]\n",
      " [758 340   6]\n",
      " [758 340   6]\n",
      " [758 340   6]\n",
      " [758 340   6]\n",
      " [758 340   6]\n",
      " [758 340   6]\n",
      " [821 337   2]\n",
      " [821 337   2]]\n"
     ]
    }
   ],
   "source": [
    "print('***Subset punti di fixation + durata==>\\n',create_fixations_with_duration(fixations=test_point_per_frame))"
   ]
  },
  {
   "cell_type": "markdown",
   "id": "d9090a79-b644-4f11-b0c9-b94497a7b190",
   "metadata": {
    "execution": {
     "iopub.execute_input": "2025-08-30T13:58:58.542727Z",
     "iopub.status.busy": "2025-08-30T13:58:58.542328Z",
     "iopub.status.idle": "2025-08-30T13:58:58.548426Z",
     "shell.execute_reply": "2025-08-30T13:58:58.547781Z",
     "shell.execute_reply.started": "2025-08-30T13:58:58.542694Z"
    },
    "jp-MarkdownHeadingCollapsed": true
   },
   "source": [
    "### costrusci dataset per ciascun video e osservatore"
   ]
  },
  {
   "cell_type": "code",
   "execution_count": 10,
   "id": "8da24372-0db0-402a-b00e-bfe498d4b038",
   "metadata": {
    "execution": {
     "iopub.execute_input": "2025-08-31T20:59:56.030591Z",
     "iopub.status.busy": "2025-08-31T20:59:56.030207Z",
     "iopub.status.idle": "2025-08-31T21:00:07.952525Z",
     "shell.execute_reply": "2025-08-31T21:00:07.951731Z",
     "shell.execute_reply.started": "2025-08-31T20:59:56.030566Z"
    }
   },
   "outputs": [
    {
     "name": "stdout",
     "output_type": "stream",
     "text": [
      "****reading new mat data\n",
      "reading mat success!********\n",
      "****reading new mat data\n",
      "reading mat success!********\n",
      "****reading new mat data\n",
      "reading mat success!********\n",
      "****reading new mat data\n",
      "reading mat success!********\n",
      "****reading new mat data\n",
      "reading mat success!********\n",
      "****reading new mat data\n",
      "reading mat success!********\n",
      "****reading new mat data\n",
      "reading mat success!********\n",
      "****reading new mat data\n",
      "reading mat success!********\n",
      "****reading new mat data\n",
      "reading mat success!********\n",
      "****reading new mat data\n",
      "reading mat success!********\n",
      "****reading new mat data\n",
      "reading mat success!********\n",
      "****reading new mat data\n",
      "reading mat success!********\n",
      "****reading new mat data\n",
      "reading mat success!********\n",
      "****reading new mat data\n",
      "reading mat success!********\n",
      "****reading new mat data\n",
      "reading mat success!********\n",
      "****reading new mat data\n",
      "reading mat success!********\n",
      "****reading new mat data\n",
      "reading mat success!********\n",
      "****reading new mat data\n",
      "reading mat success!********\n",
      "****reading new mat data\n",
      "reading mat success!********\n",
      "****reading new mat data\n",
      "reading mat success!********\n",
      "****reading new mat data\n",
      "reading mat success!********\n",
      "****reading new mat data\n",
      "reading mat success!********\n",
      "****reading new mat data\n",
      "reading mat success!********\n",
      "****reading new mat data\n",
      "reading mat success!********\n",
      "****reading new mat data\n",
      "reading mat success!********\n",
      "****reading new mat data\n",
      "reading mat success!********\n",
      "****reading new mat data\n",
      "reading mat success!********\n",
      "****reading new mat data\n",
      "reading mat success!********\n",
      "****reading new mat data\n",
      "reading mat success!********\n",
      "****reading new mat data\n",
      "reading mat success!********\n",
      "****reading new mat data\n",
      "reading mat success!********\n",
      "****reading new mat data\n",
      "reading mat success!********\n",
      "****reading new mat data\n",
      "reading mat success!********\n",
      "****reading new mat data\n",
      "reading mat success!********\n",
      "****reading new mat data\n",
      "reading mat success!********\n",
      "****reading new mat data\n",
      "reading mat success!********\n",
      "****reading new mat data\n",
      "reading mat success!********\n",
      "****reading new mat data\n",
      "reading mat success!********\n",
      "****reading new mat data\n",
      "reading mat success!********\n",
      "****reading new mat data\n",
      "reading mat success!********\n",
      "****reading new mat data\n",
      "reading mat success!********\n",
      "****reading new mat data\n",
      "reading mat success!********\n",
      "****reading new mat data\n",
      "reading mat success!********\n",
      "****reading new mat data\n",
      "reading mat success!********\n",
      "****reading new mat data\n",
      "reading mat success!********\n",
      "****reading new mat data\n",
      "reading mat success!********\n",
      "****reading new mat data\n",
      "reading mat success!********\n",
      "****reading new mat data\n",
      "reading mat success!********\n",
      "****reading new mat data\n",
      "reading mat success!********\n",
      "****reading new mat data\n",
      "reading mat success!********\n",
      "****reading new mat data\n",
      "reading mat success!********\n",
      "****reading new mat data\n",
      "reading mat success!********\n",
      "****reading new mat data\n",
      "reading mat success!********\n",
      "****reading new mat data\n",
      "reading mat success!********\n",
      "****reading new mat data\n",
      "reading mat success!********\n",
      "****reading new mat data\n",
      "reading mat success!********\n",
      "****reading new mat data\n",
      "reading mat success!********\n",
      "****reading new mat data\n",
      "reading mat success!********\n",
      "****reading new mat data\n",
      "reading mat success!********\n",
      "****reading new mat data\n",
      "reading mat success!********\n",
      "****reading new mat data\n",
      "reading mat success!********\n",
      "****reading new mat data\n",
      "reading mat success!********\n",
      "****reading new mat data\n",
      "reading mat success!********\n",
      "****reading new mat data\n",
      "reading mat success!********\n",
      "****reading new mat data\n",
      "reading mat success!********\n"
     ]
    }
   ],
   "source": [
    "for fix_data_ in os.listdir(FIX_DATA_NEW): \n",
    "    if fix_data_.endswith('.mat'):  \n",
    "        VIDEO_ID = int(re.search(r'\\d+', fix_data_).group())\n",
    "        mat_data_fix_new,_ = uf.load_mat_data(os.path.join(FIX_DATA_NEW,fix_data_))\n",
    "        observer_count,frame_count=uf.get_fixation_points_info(fix_data=mat_data_fix_new)\n",
    "        aframe=uf.read_specific_frame(video_path=os.path.join(RAW_VIDEO,str(VIDEO_ID).zfill(3)+'.mp4'),frame_idx=0) \n",
    "        #altezza x larghezza\n",
    "        frame_shape=[aframe.shape[0],aframe.shape[1]]\n",
    "        fix_with_duration_data={\n",
    "            'VIDEO_ID':VIDEO_ID, 'FIX_DATA_NAME': fix_data_, 'FRAME_HW': frame_shape,\n",
    "            'OBSERVER_CNT':observer_count,'FRAME_CNT': frame_count,  \n",
    "            'OBSERVER_DATA' : {}}\n",
    "        for obs_idx in range(observer_count):  \n",
    "            #(fix_point, obs_count, frame count)-tripla\n",
    "            fix_points_per_frame_tuple=uf.get_fixation_points_per_obs(fix_data=mat_data_fix_new, obs_id=obs_idx)\n",
    "            if fix_points_per_frame_tuple: \n",
    "                #assegna lista =[frame x 3 ] \n",
    "                fix_with_duration_data['OBSERVER_DATA'][int(obs_idx)]=create_fixations_with_duration(fix_points_per_frame_tuple[0]).tolist()\n",
    "                #print('number of frames=>',len(fix_with_duration_data['OBSERVER_DATA'][obs_idx]), '(x,y,duration)=>',fix_with_duration_data['OBSERVER_DATA'][obs_idx][0])\n",
    "        #salva come json (un json per video)\n",
    "        uf.write_json(data=fix_with_duration_data,path=os.path.join(RAW_FIX_DURATION_PATH,f'{VIDEO_ID}.json'))"
   ]
  },
  {
   "cell_type": "markdown",
   "id": "7972fe68-6e3a-45e8-8027-cf950ccdd694",
   "metadata": {},
   "source": [
    "#### controllo dataset creato"
   ]
  },
  {
   "cell_type": "code",
   "execution_count": 11,
   "id": "c94ec930-c137-4aee-8eea-35b8b39a1619",
   "metadata": {
    "execution": {
     "iopub.execute_input": "2025-08-31T21:00:55.318884Z",
     "iopub.status.busy": "2025-08-31T21:00:55.318202Z",
     "iopub.status.idle": "2025-08-31T21:00:55.337543Z",
     "shell.execute_reply": "2025-08-31T21:00:55.336736Z",
     "shell.execute_reply.started": "2025-08-31T21:00:55.318853Z"
    }
   },
   "outputs": [
    {
     "name": "stdout",
     "output_type": "stream",
     "text": [
      "VIDEO_ID 1 FIX NAME 001.mat FRAME SHAPE(hw)=> [720, 1280] OBSERVER_CNT 39 FRAME COUNT=> 600 OBSERVER DATA KEYS=> dict_keys(['0', '1', '2', '3', '4', '5', '6', '7', '8', '9', '10', '11', '12', '13', '14', '15', '16', '17', '18', '19', '20', '21', '22', '23', '24', '25', '26', '27', '28', '29', '30', '31', '32', '33', '34', '35', '36', '37', '38']) FRAME CNT FIRST OBS=> 600 \n",
      "(x,y,duration) first obs at frame 0=> [533, 357, 2] \n",
      "(x,y,duration) first obs at frame 1=> [533, 357, 2] \n",
      "(x,y,duration) first obs at frame 0=> [758, 340, 6]\n"
     ]
    }
   ],
   "source": [
    "VIDEO_ID=1\n",
    "fix_dur_js=uf.read_json(path=os.path.join(RAW_FIX_DURATION_PATH,f'{VIDEO_ID}.json'))\n",
    "print('VIDEO_ID',fix_dur_js['VIDEO_ID'],'FIX NAME',fix_dur_js['FIX_DATA_NAME'],'FRAME SHAPE(hw)=>',fix_dur_js['FRAME_HW'],\n",
    "      'OBSERVER_CNT',fix_dur_js['OBSERVER_CNT'],'FRAME COUNT=>',fix_dur_js['FRAME_CNT'],\n",
    "      'OBSERVER DATA KEYS=>',fix_dur_js['OBSERVER_DATA'].keys(), \n",
    "      'FRAME CNT FIRST OBS=>',len(fix_dur_js['OBSERVER_DATA']['0']),\n",
    "      '\\n(x,y,duration) first obs at frame 0=>',fix_dur_js['OBSERVER_DATA']['0'][0],\n",
    "      '\\n(x,y,duration) first obs at frame 1=>',fix_dur_js['OBSERVER_DATA']['0'][1],\n",
    "      '\\n(x,y,duration) first obs at frame 0=>',fix_dur_js['OBSERVER_DATA']['0'][2])"
   ]
  },
  {
   "cell_type": "markdown",
   "id": "30503014-a8af-4691-a006-6fb8d90734c9",
   "metadata": {
    "jp-MarkdownHeadingCollapsed": true
   },
   "source": [
    "### 3) Costruzione mappa gaussiana punti di fixation"
   ]
  },
  {
   "cell_type": "markdown",
   "id": "46f1d085-e50a-4dd2-942c-295e294748d0",
   "metadata": {},
   "source": [
    "#### example with single video"
   ]
  },
  {
   "cell_type": "code",
   "execution_count": 3,
   "id": "56dfc035-a1f2-4cc8-b31b-4c9bd1ec7689",
   "metadata": {
    "execution": {
     "iopub.execute_input": "2025-09-08T21:39:34.983130Z",
     "iopub.status.busy": "2025-09-08T21:39:34.982745Z",
     "iopub.status.idle": "2025-09-08T21:39:35.010632Z",
     "shell.execute_reply": "2025-09-08T21:39:35.009944Z",
     "shell.execute_reply.started": "2025-09-08T21:39:34.983098Z"
    }
   },
   "outputs": [],
   "source": [
    "VIDEO_ID=1\n",
    "fix_dur_js=uf.read_json(path=os.path.join(RAW_FIX_DURATION_PATH,f'{VIDEO_ID}.json'))"
   ]
  },
  {
   "cell_type": "code",
   "execution_count": 4,
   "id": "39f6f247-833f-4d41-bcbb-eadfa5bb70ae",
   "metadata": {
    "execution": {
     "iopub.execute_input": "2025-09-08T21:39:35.264042Z",
     "iopub.status.busy": "2025-09-08T21:39:35.263665Z",
     "iopub.status.idle": "2025-09-08T21:39:35.272232Z",
     "shell.execute_reply": "2025-09-08T21:39:35.271564Z",
     "shell.execute_reply.started": "2025-09-08T21:39:35.264010Z"
    }
   },
   "outputs": [
    {
     "data": {
      "text/plain": [
       "dict_keys(['VIDEO_ID', 'FIX_DATA_NAME', 'FRAME_HW', 'OBSERVER_CNT', 'FRAME_CNT', 'OBSERVER_DATA'])"
      ]
     },
     "execution_count": 4,
     "metadata": {},
     "output_type": "execute_result"
    }
   ],
   "source": [
    "fix_dur_js.keys()"
   ]
  },
  {
   "cell_type": "code",
   "execution_count": 5,
   "id": "4c12bfd2-6887-4c25-a46a-86241bef5d5e",
   "metadata": {
    "execution": {
     "iopub.execute_input": "2025-09-08T21:39:37.959600Z",
     "iopub.status.busy": "2025-09-08T21:39:37.959239Z",
     "iopub.status.idle": "2025-09-08T21:39:37.967813Z",
     "shell.execute_reply": "2025-09-08T21:39:37.966753Z",
     "shell.execute_reply.started": "2025-09-08T21:39:37.959572Z"
    }
   },
   "outputs": [
    {
     "name": "stdout",
     "output_type": "stream",
     "text": [
      "lens: x: 39 y: 39 duration: 39\n"
     ]
    }
   ],
   "source": [
    "frame_idx=0 \n",
    "x_list=[]\n",
    "y_list=[]\n",
    "duration_list=[]\n",
    "for obs_id in range(fix_dur_js['OBSERVER_CNT']):\n",
    "    fix_dur_data=fix_dur_js['OBSERVER_DATA'][str(obs_id)][frame_idx] \n",
    "    x =fix_dur_data[0] \n",
    "    y =fix_dur_data[1] \n",
    "    duration_ = fix_dur_data[2] \n",
    "    x_list.append(x) \n",
    "    y_list.append(y) \n",
    "    duration_list.append(duration_) \n",
    "print('lens: x:',len(x_list),'y:',len(x_list),'duration:',len(duration_list))"
   ]
  },
  {
   "cell_type": "code",
   "execution_count": 6,
   "id": "dd159052-f0bd-4b88-b9a6-8b1ca4489f50",
   "metadata": {
    "execution": {
     "iopub.execute_input": "2025-09-08T21:39:38.374901Z",
     "iopub.status.busy": "2025-09-08T21:39:38.374571Z",
     "iopub.status.idle": "2025-09-08T21:39:38.453852Z",
     "shell.execute_reply": "2025-09-08T21:39:38.451733Z",
     "shell.execute_reply.started": "2025-09-08T21:39:38.374876Z"
    }
   },
   "outputs": [
    {
     "name": "stdout",
     "output_type": "stream",
     "text": [
      "video frame shape==> (720, 1280, 3)\n"
     ]
    }
   ],
   "source": [
    "aframe=uf.read_specific_frame(video_path=os.path.join(RAW_VIDEO,str(VIDEO_ID).zfill(3)+'.mp4'),frame_idx=frame_idx) \n",
    "print('video frame shape==>',aframe.shape)"
   ]
  },
  {
   "cell_type": "code",
   "execution_count": 7,
   "id": "7ea82f85-8a0f-4241-8e3f-04990175f92d",
   "metadata": {
    "execution": {
     "iopub.execute_input": "2025-09-08T21:39:41.135331Z",
     "iopub.status.busy": "2025-09-08T21:39:41.135003Z",
     "iopub.status.idle": "2025-09-08T21:39:47.426671Z",
     "shell.execute_reply": "2025-09-08T21:39:47.426008Z",
     "shell.execute_reply.started": "2025-09-08T21:39:41.135307Z"
    }
   },
   "outputs": [
    {
     "data": {
      "image/png": "[encoded data removed]",
      "text/plain": [
       "<Figure size 1200x500 with 4 Axes>"
      ]
     },
     "metadata": {},
     "output_type": "display_data"
    }
   ],
   "source": [
    "fix_map=uf.make_gauss_mask(x=x_list, y=y_list, my_size=(aframe.shape[0],aframe.shape[1]), weight_in=None)\n",
    "fix_map2=uf.make_gauss_mask(x=x_list, y=y_list, my_size=(aframe.shape[0],aframe.shape[1]), weight_in=duration_list)\n",
    "\n",
    "plt.figure(figsize=(12, 5))\n",
    "\n",
    "# Fixation map without duration weighting\n",
    "plt.subplot(1, 2, 1)\n",
    "plt.imshow(fix_map, cmap='hot', interpolation='nearest')\n",
    "plt.colorbar(label='Intensity')\n",
    "plt.title('Fixation Map (Uniform Weight)')\n",
    "plt.axis('off')\n",
    "\n",
    "# Fixation map with duration weighting\n",
    "plt.subplot(1, 2, 2)\n",
    "plt.imshow(fix_map2, cmap='hot', interpolation='nearest')\n",
    "plt.colorbar(label='Intensity')\n",
    "plt.title('Fixation Map (Weighted by Duration)')\n",
    "plt.axis('off')\n",
    "\n",
    "plt.tight_layout()\n",
    "plt.show()"
   ]
  },
  {
   "cell_type": "code",
   "execution_count": 11,
   "id": "382c64af-cd0b-49aa-82c1-a60321762f5f",
   "metadata": {
    "execution": {
     "iopub.execute_input": "2025-09-01T16:10:00.690321Z",
     "iopub.status.busy": "2025-09-01T16:10:00.689837Z",
     "iopub.status.idle": "2025-09-01T16:10:01.897023Z",
     "shell.execute_reply": "2025-09-01T16:10:01.895559Z",
     "shell.execute_reply.started": "2025-09-01T16:10:00.690292Z"
    }
   },
   "outputs": [
    {
     "data": {
      "image/png": "[encoded data removed]",
      "text/plain": [
       "<Figure size 1200x500 with 4 Axes>"
      ]
     },
     "metadata": {},
     "output_type": "display_data"
    }
   ],
   "source": [
    "fix_map=uf.make_gauss_mask_for_fixdata(x=x_list, y=y_list, my_size=(aframe.shape[0],aframe.shape[1]), fix_time=None)\n",
    "fix_map2=uf.make_gauss_mask_for_fixdata(x=x_list, y=y_list, my_size=(aframe.shape[0],aframe.shape[1]), fix_time=duration_list)\n",
    "\n",
    "plt.figure(figsize=(12, 5))\n",
    "\n",
    "# Fixation map without duration weighting\n",
    "plt.subplot(1, 2, 1)\n",
    "plt.imshow(fix_map, cmap='hot', interpolation='nearest')\n",
    "plt.colorbar(label='Intensity')\n",
    "plt.title('Fixation Map (Uniform Weight)')\n",
    "plt.axis('off')\n",
    "\n",
    "# Fixation map with duration weighting\n",
    "plt.subplot(1, 2, 2)\n",
    "plt.imshow(fix_map2, cmap='hot', interpolation='nearest')\n",
    "plt.colorbar(label='Intensity')\n",
    "plt.title('Fixation Map (Weighted by Duration)')\n",
    "plt.axis('off')\n",
    "\n",
    "plt.tight_layout()\n",
    "plt.show()"
   ]
  },
  {
   "cell_type": "markdown",
   "id": "c6bd5796-39d7-4a73-8bc3-16a61bdc8a86",
   "metadata": {},
   "source": [
    "### Costruzione mappe di output (ground truth) da usare \n",
    "    nota: i dataset effettivi (train,validation,test, modello,out-metric,input) verrano creati successivamente (valutare dizionari di split con i path)"
   ]
  },
  {
   "cell_type": "code",
   "execution_count": 3,
   "id": "84e6a7da-4b22-4c92-a145-4ce79f5c9e67",
   "metadata": {
    "execution": {
     "iopub.execute_input": "2025-09-08T21:47:57.861782Z",
     "iopub.status.busy": "2025-09-08T21:47:57.861419Z",
     "iopub.status.idle": "2025-09-08T21:47:57.871411Z",
     "shell.execute_reply": "2025-09-08T21:47:57.870755Z",
     "shell.execute_reply.started": "2025-09-08T21:47:57.861749Z"
    }
   },
   "outputs": [
    {
     "data": {
      "text/plain": [
       "['15.json',\n",
       " '2.json',\n",
       " '9.json',\n",
       " '23.json',\n",
       " '61.json',\n",
       " '31.json',\n",
       " '26.json',\n",
       " '22.json',\n",
       " '21.json',\n",
       " '45.json',\n",
       " '42.json',\n",
       " '40.json',\n",
       " '28.json',\n",
       " '30.json',\n",
       " '72.json',\n",
       " '10.json',\n",
       " '13.json',\n",
       " '33.json',\n",
       " '27.json',\n",
       " '69.json',\n",
       " '54.json',\n",
       " '58.json',\n",
       " '7.json',\n",
       " '38.json',\n",
       " '25.json',\n",
       " '53.json',\n",
       " '.ipynb_checkpoints',\n",
       " '65.json',\n",
       " '63.json',\n",
       " '67.json',\n",
       " '57.json',\n",
       " '11.json',\n",
       " '70.json',\n",
       " '24.json',\n",
       " '64.json',\n",
       " '35.json',\n",
       " '66.json',\n",
       " '47.json',\n",
       " '6.json',\n",
       " '50.json',\n",
       " '8.json',\n",
       " '14.json',\n",
       " '43.json',\n",
       " '20.json',\n",
       " '44.json',\n",
       " '1.json',\n",
       " '12.json',\n",
       " '5.json',\n",
       " '48.json',\n",
       " '62.json',\n",
       " '73.json',\n",
       " '37.json',\n",
       " '34.json',\n",
       " '56.json',\n",
       " '36.json',\n",
       " '16.json',\n",
       " '4.json',\n",
       " '74.json',\n",
       " '60.json',\n",
       " '71.json',\n",
       " '49.json',\n",
       " '68.json',\n",
       " '75.json',\n",
       " '18.json',\n",
       " '19.json',\n",
       " '3.json']"
      ]
     },
     "execution_count": 3,
     "metadata": {},
     "output_type": "execute_result"
    }
   ],
   "source": [
    "os.listdir(RAW_FIX_DURATION_PATH)"
   ]
  },
  {
   "cell_type": "code",
   "execution_count": null,
   "id": "18bcef11-acaf-4cb3-95b6-5424664b089f",
   "metadata": {
    "execution": {
     "execution_failed": "2025-09-11T07:28:35.458Z",
     "iopub.execute_input": "2025-09-10T17:18:23.078343Z",
     "iopub.status.busy": "2025-09-10T17:18:23.078048Z"
    }
   },
   "outputs": [
    {
     "name": "stdout",
     "output_type": "stream",
     "text": [
      "to do=> 37.json\n",
      "to do=> 34.json\n",
      "to do=> 4.json\n",
      "to do=> 74.json\n",
      "to do=> 60.json\n",
      "to do=> 49.json\n"
     ]
    }
   ],
   "source": [
    "for fix_data_js in os.listdir(RAW_FIX_DURATION_PATH): \n",
    "    if not fix_data_js.endswith('.json') or fix_data_js.replace('.json','') in os.listdir(BINARY_TARGET_PATH):\n",
    "        continue\n",
    "    print('to do=>',fix_data_js)\n",
    "    VIDEO_ID = fix_data_js.split('.')[0]\n",
    "    fix_dur_js_data=uf.read_json(path=os.path.join(RAW_FIX_DURATION_PATH,fix_data_js))\n",
    "    FRAME_SHAPE = tuple(fix_dur_js_data['FRAME_HW'])\n",
    "    FRAME_CNT=fix_dur_js_data['FRAME_CNT'] \n",
    "    for frame_idx in range(FRAME_CNT):  \n",
    "        x_list=[]\n",
    "        y_list=[]\n",
    "        duration_list=[]\n",
    "        for obs_id in range(fix_dur_js_data['OBSERVER_CNT']):\n",
    "            fix_dur_data=fix_dur_js_data['OBSERVER_DATA'][str(obs_id)][frame_idx] \n",
    "            x =fix_dur_data[0] \n",
    "            y =fix_dur_data[1] \n",
    "            duration_ = fix_dur_data[2] \n",
    "            x_list.append(x) \n",
    "            y_list.append(y) \n",
    "            duration_list.append(duration_)\n",
    "        #crea le mappe \n",
    "        gaussian_map=uf.make_gauss_mask(x=x_list, y=y_list, my_size=(FRAME_SHAPE[0],FRAME_SHAPE[1]), weight_in=None)\n",
    "        weighted_gaussian_map=uf.make_gauss_mask(x=x_list, y=y_list, my_size=(FRAME_SHAPE[0],FRAME_SHAPE[1]), weight_in=duration_list)\n",
    "        binary_map = uf.make_binary_mask_for_fixdata(x=x_list, y=y_list, my_size=(FRAME_SHAPE[0],FRAME_SHAPE[1]))\n",
    "        #nome mappa\n",
    "        map_file_name=f'video{VIDEO_ID}_frame{frame_idx}_obs{obs_id}.png'\n",
    "        #esporta ogni mappa \n",
    "        #crate folder wrt the video per each target path \n",
    "        for target_path in [GAUSSIAN_TARGET_PATH,WEIGHT_GAUSSIAN_TARGET_PATH,BINARY_TARGET_PATH]:\n",
    "            dest_folder = os.path.join(target_path,f\"{VIDEO_ID}\")\n",
    "            os.makedirs(dest_folder, exist_ok=True)\n",
    "        uf.export_mask2image(my_mask=gaussian_map,path=os.path.join(GAUSSIAN_TARGET_PATH,f\"{VIDEO_ID}\",map_file_name))\n",
    "        uf.export_mask2image(my_mask=weighted_gaussian_map,path=os.path.join(WEIGHT_GAUSSIAN_TARGET_PATH,f\"{VIDEO_ID}\",map_file_name))\n",
    "        uf.export_mask2image(my_mask=binary_map,path=os.path.join(BINARY_TARGET_PATH,f\"{VIDEO_ID}\",map_file_name))"
   ]
  },
  {
   "cell_type": "code",
   "execution_count": null,
   "id": "0782f06b-30f9-4021-87c9-948646b13815",
   "metadata": {
    "execution": {
     "execution_failed": "2025-09-11T07:28:35.460Z"
    }
   },
   "outputs": [],
   "source": [
    "print('done')\n"
   ]
  },
  {
   "cell_type": "markdown",
   "id": "21ea35de-1e0d-4a30-84d6-3cecc243b1b2",
   "metadata": {},
   "source": [
    "### spostamento in cartelle"
   ]
  },
  {
   "cell_type": "code",
   "execution_count": 9,
   "id": "c8e13d66-6764-4da3-bd20-a211a7573f3f",
   "metadata": {
    "execution": {
     "iopub.execute_input": "2025-09-03T07:57:49.559252Z",
     "iopub.status.busy": "2025-09-03T07:57:49.558866Z",
     "iopub.status.idle": "2025-09-03T07:57:54.364701Z",
     "shell.execute_reply": "2025-09-03T07:57:54.363711Z",
     "shell.execute_reply.started": "2025-09-03T07:57:49.559225Z"
    }
   },
   "outputs": [],
   "source": [
    "import os\n",
    "import shutil\n",
    "import re\n",
    "\n",
    "source_folder_list = [GAUSSIAN_TARGET_PATH,WEIGHT_GAUSSIAN_TARGET_PATH,BINARY_TARGET_PATH]\n",
    "for source_folder in source_folder_list: \n",
    "    for filename in os.listdir(source_folder):\n",
    "        if filename.endswith('.png') and filename.startswith('video'):\n",
    "            match = re.match(r'video(\\d+)_.*\\.png', filename)\n",
    "            if match:\n",
    "                k = match.group(1)  # Numero K come stringa\n",
    "                dest_folder = os.path.join(source_folder, k)\n",
    "                os.makedirs(dest_folder, exist_ok=True)\n",
    "                \n",
    "                src_path = os.path.join(source_folder, filename)\n",
    "                dest_path = os.path.join(dest_folder, filename)\n",
    "                shutil.move(src_path, dest_path)"
   ]
  },
  {
   "cell_type": "code",
   "execution_count": null,
   "id": "1de42121-90e7-4dd5-bbfe-a43fbad07698",
   "metadata": {},
   "outputs": [],
   "source": []
  }
 ],
 "metadata": {
  "kernelspec": {
   "display_name": "Python 3 (ipykernel)",
   "language": "python",
   "name": "python3"
  },
  "language_info": {
   "codemirror_mode": {
    "name": "ipython",
    "version": 3
   },
   "file_extension": ".py",
   "mimetype": "text/x-python",
   "name": "python",
   "nbconvert_exporter": "python",
   "pygments_lexer": "ipython3",
   "version": "3.12.9"
  }
 },
 "nbformat": 4,
 "nbformat_minor": 5
}
